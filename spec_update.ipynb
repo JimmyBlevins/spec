{
 "cells": [
  {
   "cell_type": "code",
   "execution_count": 1,
   "metadata": {},
   "outputs": [
    {
     "data": {
      "application/vnd.jupyter.widget-view+json": {
       "model_id": "3ec4605a22bd4738ac446348d9db7078",
       "version_major": 2,
       "version_minor": 0
      },
      "text/plain": [
       "  0%|          | 0/8 [00:00<?, ?it/s]"
      ]
     },
     "metadata": {},
     "output_type": "display_data"
    }
   ],
   "source": [
    "from spec_update import spec_update\n",
    "\n",
    "# Set your project variables here:\n",
    "data = {\n",
    "    \"Folder\": r\"P:\\223\\0100 - Bell Media - 9C9 Media Control Room\\Spec\\Elec\\zz\",\n",
    "    \n",
    "    \"ProjectName\": \"Media Control Room Upgrade\", # Project Name in Header\n",
    "    \"ClientName\": \"Bell Media\", # Client Name in Header\n",
    "    \"ProjectNo\": \"2230101\", # HHA Project Number in Header\n",
    "    \"ProjectStatus\": \"Pretender\", # Issuance in footer (e.g. \"Issued for Review\")\n",
    "    \n",
    "    # Creates individual PDF of each file in the folder if set 'True'\n",
    "    \"CreatePDFs\": True, \n",
    "    \n",
    "    # Merges all PDFs into a single file labelled \"merged_specs.pdf\" if this and CreatePDFs are set 'True'\n",
    "    \"MergePDFs\": True, \n",
    "}\n",
    "\n",
    "spec_update(data)"
   ]
  }
 ],
 "metadata": {
  "kernelspec": {
   "display_name": "venv",
   "language": "python",
   "name": "python3"
  },
  "language_info": {
   "codemirror_mode": {
    "name": "ipython",
    "version": 3
   },
   "file_extension": ".py",
   "mimetype": "text/x-python",
   "name": "python",
   "nbconvert_exporter": "python",
   "pygments_lexer": "ipython3",
   "version": "3.12.2"
  }
 },
 "nbformat": 4,
 "nbformat_minor": 2
}
